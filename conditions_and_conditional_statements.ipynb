{
 "cells": [
  {
   "cell_type": "markdown",
   "id": "710e471b-d3d7-4211-8e9e-5d20769316fb",
   "metadata": {},
   "source": [
    "# Conditions and Conditional Statements"
   ]
  },
  {
   "cell_type": "markdown",
   "id": "af1e4232-a735-4d13-a41e-4eef95ec0494",
   "metadata": {},
   "source": [
    "## Conditions"
   ]
  },
  {
   "cell_type": "code",
   "execution_count": 1,
   "id": "eb50b9f2-6fa1-48d2-91e7-de15f74d557d",
   "metadata": {},
   "outputs": [
    {
     "name": "stdout",
     "output_type": "stream",
     "text": [
      "False\n"
     ]
    }
   ],
   "source": [
    "print(2 > 3)"
   ]
  },
  {
   "cell_type": "markdown",
   "id": "f2322727-0ce3-4cc6-b633-4830ff6afa5f",
   "metadata": {},
   "source": [
    "Kode di atas menggunakan operator perbandingan (>). Pada baris ini, kita memeriksa apakah angka 2 lebih besar dari angka 3. Jika pernyataan ini benar, maka hasilnya akan True, dan jika salah, hasilnya akan False.\n",
    "\n",
    "Dalam kasus ini, karena 2 tidak lebih besar dari 3, maka output yang akan ditampilkan adalah:\n",
    "\n",
    "False"
   ]
  },
  {
   "cell_type": "markdown",
   "id": "b191fcb8-c174-4b6a-9b5b-61cdb0a6bb33",
   "metadata": {},
   "source": [
    "var_one = 1\n",
    "var_two = 2\n",
    "\n",
    "print(var_one < 1)\n",
    "print(var_two >= var_one)"
   ]
  },
  {
   "cell_type": "markdown",
   "id": "1409c7a2-6905-4aaf-a794-190d2652e4c2",
   "metadata": {},
   "source": [
    "1. var_one is assigned the value 1, and var_two is assigned the value 2.\n",
    "2. The first print statement checks whether var_one is less than 1. Since 1 is not less than 1, the result will be False.\n",
    "3. The second print statement compares whether var_two is greater than or equal to var_one. Since 2 is greater than 1, the result will be True."
   ]
  },
  {
   "cell_type": "markdown",
   "id": "d5b29953-326f-4a2b-8f02-54aae9116197",
   "metadata": {},
   "source": [
    "## Conditional statements"
   ]
  },
  {
   "cell_type": "markdown",
   "id": "07feda37-d797-4e08-89c6-be2b43a52909",
   "metadata": {},
   "source": [
    "### \"if\" statements"
   ]
  },
  {
   "cell_type": "code",
   "execution_count": 3,
   "id": "4209d6a2-b81b-4a7d-af68-ee0f511d2b07",
   "metadata": {},
   "outputs": [],
   "source": [
    "def evaluate_temp(temp):\n",
    "    # Set an initial message\n",
    "    message = \"Normal temperature.\"\n",
    "    # Update value of message only if temperature greater than 38\n",
    "    if temp > 38:\n",
    "        message = \"Fever!\"\n",
    "    return message"
   ]
  },
  {
   "cell_type": "markdown",
   "id": "390ec349-5b70-4508-a428-9fec62877406",
   "metadata": {},
   "source": [
    "This function, evaluate_temp, takes a single argument, temp, which presumably represents a temperature value. Here’s how it works:\n",
    "1. An initial message is set to “Normal temperature.”\n",
    "2. The function then checks whether the input temperature (temp) is greater than 38.\n",
    "3. If the temperature is greater than 38, the message is updated to “Fever!” Otherwise, it remains “Normal temperature.”\n",
    "4. Finally, the function returns the updated message."
   ]
  },
  {
   "cell_type": "code",
   "execution_count": 4,
   "id": "c7020325-6c54-4493-8550-0d066533ba9b",
   "metadata": {},
   "outputs": [
    {
     "name": "stdout",
     "output_type": "stream",
     "text": [
      "Normal temperature.\n"
     ]
    }
   ],
   "source": [
    "print(evaluate_temp(37))"
   ]
  },
  {
   "cell_type": "markdown",
   "id": "9ccf3ac0-0836-4026-8ad3-495ae6645308",
   "metadata": {},
   "source": [
    "The output of the function evaluate_temp(37) will be:\n",
    "\n",
    "“Normal temperature.”"
   ]
  },
  {
   "cell_type": "code",
   "execution_count": 5,
   "id": "1166e452-6aae-4af9-b139-59051994abac",
   "metadata": {},
   "outputs": [
    {
     "name": "stdout",
     "output_type": "stream",
     "text": [
      "Fever!\n"
     ]
    }
   ],
   "source": [
    "print(evaluate_temp(39))"
   ]
  },
  {
   "cell_type": "markdown",
   "id": "764c3e97-8b32-4185-97e8-867c00b91ff9",
   "metadata": {},
   "source": [
    "### \"if ... else\" statements¶"
   ]
  },
  {
   "cell_type": "markdown",
   "id": "33139251-6fcf-44c9-a6c3-61de8ae120fd",
   "metadata": {},
   "source": [
    "The output of the function evaluate_temp(39) will be:\n",
    "\n",
    "“Fever!”"
   ]
  },
  {
   "cell_type": "code",
   "execution_count": 6,
   "id": "55abbb86-86d6-4def-8aa5-2275fb96fd0c",
   "metadata": {},
   "outputs": [],
   "source": [
    "def evaluate_temp_with_else(temp):\n",
    "    if temp > 38:\n",
    "        message = \"Fever!\"\n",
    "    else:\n",
    "        message = \"Normal temperature.\"\n",
    "    return message"
   ]
  },
  {
   "cell_type": "markdown",
   "id": "35a41074-9a5d-448e-97bb-4f5563e931b1",
   "metadata": {},
   "source": [
    "Fungsi evaluate_temp_with_else yang diberikan memiliki dua cabang kondisi. Berikut adalah penjelasan lebih lanjut:\n",
    "1. Pertama, fungsi memeriksa apakah suhu (temp) lebih besar dari 38.\n",
    "2. Jika suhu lebih besar dari 38, maka pesan yang dihasilkan adalah “Fever!”.\n",
    "3. Jika tidak, pesan yang dihasilkan adalah “Normal temperature.”"
   ]
  },
  {
   "cell_type": "code",
   "execution_count": 8,
   "id": "b49a9026-1f21-43bb-b3cb-a4cf718eea4a",
   "metadata": {},
   "outputs": [
    {
     "name": "stdout",
     "output_type": "stream",
     "text": [
      "Normal temperature.\n"
     ]
    }
   ],
   "source": [
    "print(evaluate_temp_with_else(37))"
   ]
  },
  {
   "cell_type": "markdown",
   "id": "c139189c-8fad-49be-a157-c7dd7cff825a",
   "metadata": {},
   "source": [
    "### \"if ... elif ... else\" statements"
   ]
  },
  {
   "cell_type": "markdown",
   "id": "b4214ac7-36c9-40d9-b862-d6f7e70d3698",
   "metadata": {},
   "source": [
    "Output dari fungsi evaluate_temp_with_else(37) adalah:\n",
    "\n",
    "“Normal temperature.”"
   ]
  },
  {
   "cell_type": "code",
   "execution_count": 9,
   "id": "8402e3ea-a4d8-4165-b626-abf28be1a6ff",
   "metadata": {},
   "outputs": [],
   "source": [
    "def evaluate_temp_with_elif(temp):\n",
    "    if temp > 38:\n",
    "        message = \"Fever!\"\n",
    "    elif temp > 35:\n",
    "        message = \"Normal temperature.\"\n",
    "    else:\n",
    "        message = \"Low temperature.\"\n",
    "    return message"
   ]
  },
  {
   "cell_type": "markdown",
   "id": "fc20ec09-1f04-46b8-beca-2a5fe5bbde6f",
   "metadata": {},
   "source": [
    "Fungsi evaluate_temp_with_elif mengevaluasi suhu berdasarkan tiga kondisi:\n",
    "1. Jika suhu (temp) lebih besar dari 38, maka pesan diatur menjadi “Fever!”.\n",
    "2. Jika suhu tidak lebih besar dari 38, tetapi masih lebih besar dari 35, maka pesan diatur menjadi “Normal temperature.”\n",
    "3. Jika tidak (jika suhu 35 atau lebih rendah), maka pesan diatur menjadi “Low temperature.”"
   ]
  },
  {
   "cell_type": "code",
   "execution_count": 10,
   "id": "8edb3565-e2f3-43b1-8dd5-fbcea490ba73",
   "metadata": {},
   "outputs": [
    {
     "data": {
      "text/plain": [
       "'Normal temperature.'"
      ]
     },
     "execution_count": 10,
     "metadata": {},
     "output_type": "execute_result"
    }
   ],
   "source": [
    "evaluate_temp_with_elif(36)"
   ]
  },
  {
   "cell_type": "markdown",
   "id": "6e7f6896-220e-4175-a5b8-c37acd5853a7",
   "metadata": {},
   "source": [
    "Hasil dari fungsi evaluate_temp_with_elif(36) adalah:\n",
    "\n",
    "“Normal temperature.”"
   ]
  },
  {
   "cell_type": "code",
   "execution_count": 11,
   "id": "1afb60dc-4e8f-4aba-ab1e-77ac30c6c9b0",
   "metadata": {},
   "outputs": [
    {
     "data": {
      "text/plain": [
       "'Low temperature.'"
      ]
     },
     "execution_count": 11,
     "metadata": {},
     "output_type": "execute_result"
    }
   ],
   "source": [
    "evaluate_temp_with_elif(34)"
   ]
  },
  {
   "cell_type": "markdown",
   "id": "b23e5f72-c0a3-44e3-89ba-2c423634293a",
   "metadata": {},
   "source": [
    "Hasil dari fungsi evaluate_temp_with_elif(34) adalah:\n",
    "\n",
    "“Low temperature.”"
   ]
  },
  {
   "cell_type": "markdown",
   "id": "80604c80-9d28-45a5-8fff-355243c3d21b",
   "metadata": {},
   "source": [
    "## Example - Calculations"
   ]
  },
  {
   "cell_type": "code",
   "execution_count": 12,
   "id": "6f771bbd-d06b-46df-ae01-41b81c66cb72",
   "metadata": {},
   "outputs": [],
   "source": [
    "def get_taxes(earnings):\n",
    "    if earnings < 12000:\n",
    "        tax_owed = .25 * earnings\n",
    "    else:\n",
    "        tax_owed = .30 * earnings\n",
    "    return tax_owed"
   ]
  },
  {
   "cell_type": "markdown",
   "id": "4aeb372c-1dc2-4ef3-b2ee-194c86bbd79e",
   "metadata": {},
   "source": [
    "Fungsi get_taxes yang diberikan menghitung jumlah pajak berdasarkan aturan berikut:\n",
    "1. Jika earnings kurang dari `$12.000`, maka tarif pajak adalah 25%.\n",
    "2. Jika tidak (jika earnings lebih besar dari atau sama dengan `$12.000`), maka tarif pajak adalah 30%."
   ]
  },
  {
   "cell_type": "code",
   "execution_count": 13,
   "id": "2e98909e-fb8e-4a71-8194-22b5954a7676",
   "metadata": {},
   "outputs": [
    {
     "name": "stdout",
     "output_type": "stream",
     "text": [
      "2250.0\n",
      "4500.0\n"
     ]
    }
   ],
   "source": [
    "ana_taxes = get_taxes(9000)\n",
    "bob_taxes = get_taxes(15000)\n",
    "\n",
    "print(ana_taxes)\n",
    "print(bob_taxes)"
   ]
  },
  {
   "cell_type": "markdown",
   "id": "3b7ddf9d-5c4a-4987-9e32-0344d8482ed7",
   "metadata": {},
   "source": [
    "Ana akan membayar pajak sebesar `$2,250.00`, sedangkan Bob akan membayar pajak sebesar `$4,500.00`."
   ]
  },
  {
   "cell_type": "markdown",
   "id": "354e984d-bf3f-4b20-b19a-b076a1bd2504",
   "metadata": {},
   "source": [
    "## Example - Multiple \"elif\" statements"
   ]
  },
  {
   "cell_type": "code",
   "execution_count": 14,
   "id": "e05c67a6-3dd2-48c7-ba9c-948cd1851041",
   "metadata": {},
   "outputs": [],
   "source": [
    "def get_dose(weight):\n",
    "    # Dosage is 1.25 ml for anyone under 5.2 kg\n",
    "    if weight < 5.2:\n",
    "        dose = 1.25\n",
    "    elif weight < 7.9:\n",
    "        dose = 2.5\n",
    "    elif weight < 10.4:\n",
    "        dose = 3.75\n",
    "    elif weight < 15.9:\n",
    "        dose = 5\n",
    "    elif weight < 21.2:\n",
    "        dose = 7.5\n",
    "    # Dosage is 10 ml for anyone 21.2 kg or over\n",
    "    else:\n",
    "        dose = 10\n",
    "    return dose"
   ]
  },
  {
   "cell_type": "markdown",
   "id": "0a1561aa-b648-4713-8295-2cf57985f9db",
   "metadata": {},
   "source": [
    "Berikut adalah penjelasan dari fungsi get_dose yang Anda berikan:\n",
    "1. Jika berat badan (weight) kurang dari 5.2 kg, dosis yang diberikan adalah 1.25 ml.\n",
    "2. Jika berat badan kurang dari 7.9 kg, dosis yang diberikan adalah 2.5 ml.\n",
    "3. Jika berat badan kurang dari 10.4 kg, dosis yang diberikan adalah 3.75 ml.\n",
    "4. Jika berat badan kurang dari 15.9 kg, dosis yang diberikan adalah 5 ml.\n",
    "5. Jika berat badan kurang dari 21.2 kg, dosis yang diberikan adalah 7.5 ml.\n",
    "6. Jika berat badan 21.2 kg atau lebih, dosis yang diberikan adalah 10 ml."
   ]
  },
  {
   "cell_type": "code",
   "execution_count": 15,
   "id": "7e33a27e-54cc-4d3e-941e-bd81facdad26",
   "metadata": {},
   "outputs": [
    {
     "name": "stdout",
     "output_type": "stream",
     "text": [
      "5\n"
     ]
    }
   ],
   "source": [
    "print(get_dose(12))"
   ]
  },
  {
   "cell_type": "markdown",
   "id": "3df9b788-daa0-4a7d-9107-af70c46988bc",
   "metadata": {},
   "source": [
    "Dosis yang diberikan untuk berat badan 12 kg adalah 3.75 ml."
   ]
  },
  {
   "cell_type": "code",
   "execution_count": null,
   "id": "a7c9fbe1-d442-49e9-b590-cbd60db18c31",
   "metadata": {},
   "outputs": [],
   "source": []
  }
 ],
 "metadata": {
  "kernelspec": {
   "display_name": "Python 3 (ipykernel)",
   "language": "python",
   "name": "python3"
  },
  "language_info": {
   "codemirror_mode": {
    "name": "ipython",
    "version": 3
   },
   "file_extension": ".py",
   "mimetype": "text/x-python",
   "name": "python",
   "nbconvert_exporter": "python",
   "pygments_lexer": "ipython3",
   "version": "3.9.12"
  }
 },
 "nbformat": 4,
 "nbformat_minor": 5
}
