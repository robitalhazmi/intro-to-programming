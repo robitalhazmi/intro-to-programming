{
 "cells": [
  {
   "cell_type": "markdown",
   "metadata": {},
   "source": [
    "# Intro to Programming"
   ]
  },
  {
   "cell_type": "markdown",
   "metadata": {},
   "source": [
    "Get started with Python, if you have no coding experience."
   ]
  },
  {
   "cell_type": "markdown",
   "metadata": {},
   "source": [
    "## Arithmetic and Variables"
   ]
  },
  {
   "cell_type": "markdown",
   "metadata": {},
   "source": [
    "Make calculations, and define and modify variables."
   ]
  },
  {
   "cell_type": "markdown",
   "metadata": {},
   "source": [
    "### Printing"
   ]
  },
  {
   "cell_type": "code",
   "execution_count": 1,
   "metadata": {},
   "outputs": [
    {
     "name": "stdout",
     "output_type": "stream",
     "text": [
      "Hello, world!\n"
     ]
    }
   ],
   "source": [
    "print(\"Hello, world!\")"
   ]
  },
  {
   "cell_type": "markdown",
   "metadata": {},
   "source": [
    "Kode di atas adalah contoh sederhana dari sebuah program Python yang mencetak string \"Hello, world!\" ke dalam output. print() adalah fungsi bawaan Python yang digunakan untuk mencetak atau menampilkan nilai ke konsol atau layar. Dalam kasus ini, string \"Hello, world!\" adalah argumen yang diteruskan ke fungsi print(), sehingga ketika program dijalankan, teks tersebut akan ditampilkan di konsol atau layar sebagai output. Hal ini merupakan contoh umum yang sering digunakan sebagai langkah awal untuk mempelajari bahasa pemrograman baru seperti Python."
   ]
  },
  {
   "cell_type": "markdown",
   "metadata": {},
   "source": [
    "### Arithmetic"
   ]
  },
  {
   "cell_type": "code",
   "execution_count": 2,
   "metadata": {},
   "outputs": [
    {
     "name": "stdout",
     "output_type": "stream",
     "text": [
      "3\n"
     ]
    }
   ],
   "source": [
    "print(1 + 2)"
   ]
  },
  {
   "cell_type": "markdown",
   "metadata": {},
   "source": [
    "Kode di atas adalah contoh sederhana dari operasi penjumlahan dalam Python. Ekspresi 1 + 2 di dalam fungsi print() dihitung, dan hasilnya, yaitu 3, akan dicetak ke dalam output. Jadi, ketika program dijalankan, outputnya akan menjadi 3. Ini menunjukkan cara menggunakan operator aritmatika dalam Python untuk melakukan operasi matematika dasar."
   ]
  },
  {
   "cell_type": "code",
   "execution_count": 3,
   "metadata": {},
   "outputs": [
    {
     "name": "stdout",
     "output_type": "stream",
     "text": [
      "4\n"
     ]
    }
   ],
   "source": [
    "print(9 - 5)"
   ]
  },
  {
   "cell_type": "markdown",
   "metadata": {},
   "source": [
    "Kode di atas merupakan contoh sederhana dari operasi pengurangan dalam Python. Ekspresi 9 - 5 dihitung, dan hasilnya, yaitu 4, akan dicetak ke dalam output. Jadi, ketika program dijalankan, outputnya akan menjadi 4. Ini menunjukkan cara menggunakan operator aritmatika dalam Python untuk melakukan operasi pengurangan antara dua bilangan."
   ]
  },
  {
   "cell_type": "code",
   "execution_count": 4,
   "metadata": {},
   "outputs": [
    {
     "name": "stdout",
     "output_type": "stream",
     "text": [
      "196.0\n"
     ]
    }
   ],
   "source": [
    "print(((1 + 3) * (9 - 2) / 2) ** 2)"
   ]
  },
  {
   "cell_type": "markdown",
   "metadata": {},
   "source": [
    "Kode di atas merupakan contoh dari ekspresi matematika yang lebih kompleks yang dievaluasi dalam Python.\n",
    "\n",
    "1. Pertama-tama, bagian dalam tanda kurung terdalam, yaitu (1 + 3), dihitung, menghasilkan nilai 4.\n",
    "2. Kemudian, bagian (9 - 2) dievaluasi menjadi 7.\n",
    "3. Setelah itu, kedua hasil tersebut dikalikan bersama, yaitu 4 * 7, yang menghasilkan 28.\n",
    "4. Hasil dari perkalian tersebut kemudian dibagi oleh 2, menghasilkan 14.0 (dalam Python 3, pembagian ini akan selalu menghasilkan float bahkan jika angkanya bisa dibagi dengan sempurna).\n",
    "5. Nilai tersebut kemudian dinaikkan ke pangkat 2, atau dikuadratkan, yang menghasilkan 196.0.\n",
    "\n",
    "Akhirnya, hasil akhir 196.0 dicetak ke output. Jadi, ketika program dijalankan, outputnya akan menjadi 196.0."
   ]
  },
  {
   "cell_type": "markdown",
   "metadata": {},
   "source": [
    "### Comments"
   ]
  },
  {
   "cell_type": "code",
   "execution_count": 5,
   "metadata": {},
   "outputs": [
    {
     "name": "stdout",
     "output_type": "stream",
     "text": [
      "6\n"
     ]
    }
   ],
   "source": [
    "# Multiply 3 by 2\n",
    "print(3 * 2)"
   ]
  },
  {
   "cell_type": "markdown",
   "metadata": {},
   "source": [
    "Kode di atas adalah contoh sederhana dari operasi perkalian dalam Python. Angka 3 dikalikan dengan 2, dan hasilnya, yaitu 6, akan dicetak ke dalam output. Komentar yang dimulai dengan tanda # di baris pertama menjelaskan tindakan yang dilakukan oleh kode di bawahnya. Komentar ini tidak mempengaruhi eksekusi kode; mereka hanya memberikan penjelasan tentang apa yang dilakukan kode. Jadi, ketika program dijalankan, outputnya akan menjadi 6."
   ]
  },
  {
   "cell_type": "code",
   "execution_count": 6,
   "metadata": {},
   "outputs": [
    {
     "ename": "SyntaxError",
     "evalue": "invalid syntax (3750420471.py, line 1)",
     "output_type": "error",
     "traceback": [
      "\u001b[1;36m  Input \u001b[1;32mIn [6]\u001b[1;36m\u001b[0m\n\u001b[1;33m    Multiply 3 by 2\u001b[0m\n\u001b[1;37m             ^\u001b[0m\n\u001b[1;31mSyntaxError\u001b[0m\u001b[1;31m:\u001b[0m invalid syntax\n"
     ]
    }
   ],
   "source": [
    "Multiply 3 by 2"
   ]
  },
  {
   "cell_type": "markdown",
   "metadata": {},
   "source": [
    "Kode di atas adalah contoh jika terjadi kesalahan pada sintaks Python"
   ]
  },
  {
   "cell_type": "markdown",
   "metadata": {},
   "source": [
    "### Variables"
   ]
  },
  {
   "cell_type": "markdown",
   "metadata": {},
   "source": [
    "#### Creating variables"
   ]
  },
  {
   "cell_type": "code",
   "execution_count": 7,
   "metadata": {},
   "outputs": [
    {
     "name": "stdout",
     "output_type": "stream",
     "text": [
      "9\n"
     ]
    }
   ],
   "source": [
    "# Create a variable called test_var and give it a value of 4+5\n",
    "test_var = 4 + 5\n",
    "\n",
    "# Print the value of test_var\n",
    "print(test_var)"
   ]
  },
  {
   "cell_type": "markdown",
   "metadata": {},
   "source": [
    "Penjelasannya adalah sebagai berikut:\n",
    "\n",
    "1. Baris pertama membuat variabel bernama test_var dan memberikan nilai kepadanya. Nilai diberikan dengan menambahkan 4 dan 5, sehingga test_var akan memiliki nilai 9.\n",
    "\n",
    "2. Baris kedua mencetak nilai test_var ke layar menggunakan fungsi print(). Sehingga ketika program dijalankan, outputnya akan menjadi 9."
   ]
  },
  {
   "cell_type": "markdown",
   "metadata": {},
   "source": [
    "#### Manipulating variables"
   ]
  },
  {
   "cell_type": "code",
   "execution_count": 8,
   "metadata": {},
   "outputs": [
    {
     "name": "stdout",
     "output_type": "stream",
     "text": [
      "3\n",
      "100\n"
     ]
    }
   ],
   "source": [
    "# Set the value of a new variable to 3\n",
    "my_var = 3\n",
    "\n",
    "# Print the value assigned to my_var\n",
    "print(my_var)\n",
    "\n",
    "# Change the value of the variable to 100\n",
    "my_var = 100\n",
    "\n",
    "# Print the new value assigned to my_var\n",
    "print(my_var)"
   ]
  },
  {
   "cell_type": "markdown",
   "metadata": {},
   "source": [
    "Penjelasannya adalah sebagai berikut:\n",
    "\n",
    "1. Baris pertama membuat variabel baru bernama my_var dan memberikan nilai 3 kepadanya.\n",
    "\n",
    "2. Baris kedua mencetak nilai yang ditetapkan ke my_var, yaitu 3.\n",
    "\n",
    "3. Baris ketiga mengubah nilai dari variabel my_var menjadi 100.\n",
    "\n",
    "4. Baris keempat mencetak nilai baru yang ditetapkan ke my_var, yaitu 100."
   ]
  },
  {
   "cell_type": "code",
   "execution_count": 10,
   "metadata": {},
   "outputs": [
    {
     "name": "stdout",
     "output_type": "stream",
     "text": [
      "100\n",
      "9\n"
     ]
    }
   ],
   "source": [
    "# Print the value of my_var\n",
    "print(my_var)\n",
    "\n",
    "# Print the value of test_var\n",
    "print(test_var)"
   ]
  },
  {
   "cell_type": "code",
   "execution_count": 11,
   "metadata": {},
   "outputs": [
    {
     "name": "stdout",
     "output_type": "stream",
     "text": [
      "103\n"
     ]
    }
   ],
   "source": [
    "# Increase the value by 3\n",
    "my_var = my_var + 3\n",
    "\n",
    "# Print the value assigned to my_var\n",
    "print(my_var)"
   ]
  },
  {
   "cell_type": "markdown",
   "metadata": {},
   "source": [
    "Kode tersebut akan menambahkan nilai variabel my_var dengan 3, kemudian mencetak nilai baru yang ditetapkan ke my_var."
   ]
  },
  {
   "cell_type": "markdown",
   "metadata": {},
   "source": [
    "#### Using multiple variables"
   ]
  },
  {
   "cell_type": "code",
   "execution_count": 12,
   "metadata": {},
   "outputs": [
    {
     "name": "stdout",
     "output_type": "stream",
     "text": [
      "126144000\n"
     ]
    }
   ],
   "source": [
    "# Create variables\n",
    "num_years = 4\n",
    "days_per_year = 365 \n",
    "hours_per_day = 24\n",
    "mins_per_hour = 60\n",
    "secs_per_min = 60\n",
    "\n",
    "# Calculate number of seconds in four years\n",
    "total_secs = secs_per_min * mins_per_hour * hours_per_day * days_per_year * num_years\n",
    "print(total_secs)"
   ]
  },
  {
   "cell_type": "markdown",
   "metadata": {},
   "source": [
    "Kode ini akan menghitung total jumlah detik dalam empat tahun dan mencetak hasilnya."
   ]
  },
  {
   "cell_type": "code",
   "execution_count": 13,
   "metadata": {},
   "outputs": [
    {
     "name": "stdout",
     "output_type": "stream",
     "text": [
      "126230400.0\n"
     ]
    }
   ],
   "source": [
    "# Update to include leap years\n",
    "days_per_year = 365.25\n",
    "\n",
    "# Calculate number of seconds in four years\n",
    "total_secs = secs_per_min * mins_per_hour * hours_per_day * days_per_year * num_years\n",
    "print(total_secs)"
   ]
  },
  {
   "cell_type": "markdown",
   "metadata": {},
   "source": [
    "Kode ini akan menghitung total jumlah detik dalam empat tahun yang mempertimbangkan tahun kabisat, dan kemudian mencetak hasilnya."
   ]
  },
  {
   "cell_type": "markdown",
   "metadata": {},
   "source": [
    "#### Debugging"
   ]
  },
  {
   "cell_type": "code",
   "execution_count": 14,
   "metadata": {},
   "outputs": [
    {
     "ename": "NameError",
     "evalue": "name 'hours_per_dy' is not defined",
     "output_type": "error",
     "traceback": [
      "\u001b[1;31m---------------------------------------------------------------------------\u001b[0m",
      "\u001b[1;31mNameError\u001b[0m                                 Traceback (most recent call last)",
      "Input \u001b[1;32mIn [14]\u001b[0m, in \u001b[0;36m<cell line: 1>\u001b[1;34m()\u001b[0m\n\u001b[1;32m----> 1\u001b[0m \u001b[38;5;28mprint\u001b[39m(\u001b[43mhours_per_dy\u001b[49m)\n",
      "\u001b[1;31mNameError\u001b[0m: name 'hours_per_dy' is not defined"
     ]
    }
   ],
   "source": [
    "print(hours_per_dy)"
   ]
  },
  {
   "cell_type": "markdown",
   "metadata": {},
   "source": [
    "Kode ini mencetak variabel hours_per_day. Namun, terlihat bahwa mungkin terdapat kesalahan ketik dalam penamaan variabel. Kode ini mencoba mencetak hours_per_dy, sementara yang benar adalah hours_per_day."
   ]
  },
  {
   "cell_type": "markdown",
   "metadata": {},
   "source": [
    "Berikut adalah cara menambahkan pernyataan cetak dengan penamaan variabel yang benar:"
   ]
  },
  {
   "cell_type": "code",
   "execution_count": 15,
   "metadata": {},
   "outputs": [
    {
     "name": "stdout",
     "output_type": "stream",
     "text": [
      "24\n"
     ]
    }
   ],
   "source": [
    "print(hours_per_day)"
   ]
  },
  {
   "cell_type": "code",
   "execution_count": null,
   "metadata": {},
   "outputs": [],
   "source": []
  }
 ],
 "metadata": {
  "kernelspec": {
   "display_name": "Python 3",
   "language": "python",
   "name": "python3"
  },
  "language_info": {
   "codemirror_mode": {
    "name": "ipython",
    "version": 3
   },
   "file_extension": ".py",
   "mimetype": "text/x-python",
   "name": "python",
   "nbconvert_exporter": "python",
   "pygments_lexer": "ipython3",
   "version": "3.10.5"
  }
 },
 "nbformat": 4,
 "nbformat_minor": 2
}
