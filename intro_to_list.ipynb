{
 "cells": [
  {
   "cell_type": "markdown",
   "id": "221b14aa-da47-4d48-94ae-8bbde9aebd25",
   "metadata": {},
   "source": [
    "# Intro to Lists"
   ]
  },
  {
   "cell_type": "markdown",
   "id": "d165ef4b-fc7d-44b6-bf5c-866b0eadd89c",
   "metadata": {},
   "source": [
    "Organize your data so you can work with it efficiently."
   ]
  },
  {
   "cell_type": "markdown",
   "id": "f33462e6-d1de-400e-a90a-4ffc0a1d6241",
   "metadata": {},
   "source": [
    "## Introduction"
   ]
  },
  {
   "cell_type": "code",
   "execution_count": 1,
   "id": "f8b5b57d-58a1-48c5-9ab5-00fc9b080ec9",
   "metadata": {},
   "outputs": [
    {
     "name": "stdout",
     "output_type": "stream",
     "text": [
      "<class 'str'>\n",
      "pink primrose,hard-leaved pocket orchid,canterbury bells,sweet pea,english marigold,tiger lily,moon orchid,bird of paradise,monkshood,globe thistle\n"
     ]
    }
   ],
   "source": [
    "flowers = \"pink primrose,hard-leaved pocket orchid,canterbury bells,sweet pea,english marigold,tiger lily,moon orchid,bird of paradise,monkshood,globe thistle\"\n",
    "\n",
    "print(type(flowers))\n",
    "print(flowers)"
   ]
  },
  {
   "cell_type": "markdown",
   "id": "4f3519ee-e818-4295-b6c6-8e2a38a54c9c",
   "metadata": {},
   "source": [
    "flowers adalah sebuah variabel yang berisi daftar nama bunga. Jenis data dari variabel ini adalah string. Berikut adalah daftar bunga yang terdapat dalam variabel flowers:\n",
    "* Pink Primrose\n",
    "* Hard-Leaved Pocket Orchid\n",
    "* Canterbury Bells\n",
    "* Sweet Pea\n",
    "* English Marigold\n",
    "* Tiger Lily\n",
    "* Moon Orchid\n",
    "* Bird of Paradise\n",
    "* Monkshood\n",
    "* Globe Thistle"
   ]
  },
  {
   "cell_type": "code",
   "execution_count": 2,
   "id": "aecde921-a176-4d84-84cf-de2fea4ab68a",
   "metadata": {},
   "outputs": [
    {
     "name": "stdout",
     "output_type": "stream",
     "text": [
      "<class 'list'>\n",
      "['pink primrose', 'hard-leaved pocket orchid', 'canterbury bells', 'sweet pea', 'english marigold', 'tiger lily', 'moon orchid', 'bird of paradise', 'monkshood', 'globe thistle']\n"
     ]
    }
   ],
   "source": [
    "flowers_list = [\"pink primrose\", \"hard-leaved pocket orchid\", \"canterbury bells\", \"sweet pea\", \"english marigold\", \"tiger lily\", \"moon orchid\", \"bird of paradise\", \"monkshood\", \"globe thistle\"]\n",
    "\n",
    "print(type(flowers_list))\n",
    "print(flowers_list)"
   ]
  },
  {
   "cell_type": "markdown",
   "id": "368f29fb-917a-4dba-b3ec-f3806ed8d534",
   "metadata": {},
   "source": [
    "flowers_list adalah sebuah variabel yang berisi daftar nama bunga. Jenis data dari variabel ini adalah list. Berikut adalah daftar bunga yang terdapat dalam variabel flowers_list:\n",
    "* Pink Primrose\n",
    "* Hard-Leaved Pocket Orchid\n",
    "* Canterbury Bells\n",
    "* Sweet Pea\n",
    "* English Marigold\n",
    "* Tiger Lily\n",
    "* Moon Orchid\n",
    "* Bird of Paradise\n",
    "* Monkshood\n",
    "* Globe Thistle"
   ]
  },
  {
   "cell_type": "markdown",
   "id": "84b773ae-8243-495c-86ed-98c1ab79910e",
   "metadata": {},
   "source": [
    "## Lists"
   ]
  },
  {
   "cell_type": "markdown",
   "id": "e07830a9-7ce5-448f-a576-cda09420e730",
   "metadata": {},
   "source": [
    "### Length"
   ]
  },
  {
   "cell_type": "code",
   "execution_count": 3,
   "id": "3f33efb5-f95d-413a-8543-8ce09895fb63",
   "metadata": {},
   "outputs": [
    {
     "name": "stdout",
     "output_type": "stream",
     "text": [
      "10\n"
     ]
    }
   ],
   "source": [
    "# The list has ten entries\n",
    "print(len(flowers_list))"
   ]
  },
  {
   "cell_type": "markdown",
   "id": "79817a5e-f511-4226-be84-9854d23f68f0",
   "metadata": {},
   "source": [
    "List ini memiliki sepuluh entri."
   ]
  },
  {
   "cell_type": "markdown",
   "id": "22a5e583-37c4-49e5-8537-e0911b45ff4b",
   "metadata": {},
   "source": [
    "### Indexing"
   ]
  },
  {
   "cell_type": "code",
   "execution_count": 4,
   "id": "0d7361d9-9b6e-4780-aa0e-7d30861145e9",
   "metadata": {},
   "outputs": [
    {
     "name": "stdout",
     "output_type": "stream",
     "text": [
      "First entry: pink primrose\n",
      "Second entry: hard-leaved pocket orchid\n",
      "Last entry: globe thistle\n"
     ]
    }
   ],
   "source": [
    "print(\"First entry:\", flowers_list[0])\n",
    "print(\"Second entry:\", flowers_list[1])\n",
    "\n",
    "# The list has length ten, so we refer to final entry with 9\n",
    "print(\"Last entry:\", flowers_list[9])"
   ]
  },
  {
   "cell_type": "markdown",
   "id": "db72a92c-93bc-45dd-884e-db4c11d4b952",
   "metadata": {},
   "source": [
    "Pertama, bunga dalam list ini adalah “Pink Primrose”. Kedua, kita memiliki “Hard-Leaved Pocket Orchid”. Dan terakhir, bunga yang ke-10 adalah “Globe Thistle”."
   ]
  },
  {
   "cell_type": "markdown",
   "id": "2cbd1c03-591c-452f-a56c-9e0196d39045",
   "metadata": {},
   "source": [
    "### Slicing"
   ]
  },
  {
   "cell_type": "code",
   "execution_count": 7,
   "id": "05383bc4-d505-4ac0-ba14-cfff280b3bbf",
   "metadata": {},
   "outputs": [
    {
     "name": "stdout",
     "output_type": "stream",
     "text": [
      "First three entries: ['pink primrose', 'hard-leaved pocket orchid', 'canterbury bells']\n",
      "Final two entries: ['monkshood', 'globe thistle']\n"
     ]
    }
   ],
   "source": [
    "print(\"First three entries:\", flowers_list[:3]) # mengambil data dengan indeks 0, 1, dan 2\n",
    "print(\"Final two entries:\", flowers_list[-2:])"
   ]
  },
  {
   "cell_type": "markdown",
   "id": "c02d70d4-34c7-4d68-a984-578b6dd7bbb0",
   "metadata": {},
   "source": [
    "Tiga bunga pertama dalam daftar ini adalah:\n",
    "1. “Pink Primrose”\n",
    "2. “Hard-Leaved Pocket Orchid”\n",
    "3. “Canterbury Bells”\n",
    "\n",
    "Sementara itu, dua bunga terakhir dalam daftar ini adalah:\n",
    "1. “Monkshood”\n",
    "2. “Globe Thistle”"
   ]
  },
  {
   "cell_type": "markdown",
   "id": "be844e71-ab2c-4bea-817a-a3972f27428b",
   "metadata": {},
   "source": [
    "### Removing items"
   ]
  },
  {
   "cell_type": "code",
   "execution_count": 8,
   "id": "be28bfe2-59e5-4cfc-adc2-43823365a15c",
   "metadata": {},
   "outputs": [
    {
     "name": "stdout",
     "output_type": "stream",
     "text": [
      "['pink primrose', 'hard-leaved pocket orchid', 'canterbury bells', 'sweet pea', 'english marigold', 'tiger lily', 'moon orchid', 'bird of paradise', 'monkshood']\n"
     ]
    }
   ],
   "source": [
    "flowers_list.remove(\"globe thistle\")\n",
    "print(flowers_list)"
   ]
  },
  {
   "cell_type": "markdown",
   "id": "d07d563e-bc14-401b-b521-790c4140948b",
   "metadata": {},
   "source": [
    "Daftar bunga telah diperbarui. “Globe Thistle” telah dihapus dari daftar. Berikut adalah daftar bunga yang diperbarui:\n",
    "1. “Pink Primrose”\n",
    "2. “Hard-Leaved Pocket Orchid”\n",
    "3. “Canterbury Bells”\n",
    "4. “Sweet Pea”\n",
    "5. “English Marigold”\n",
    "6. “Tiger Lily”\n",
    "7. “Moon Orchid”\n",
    "8. “Bird of Paradise”\n",
    "9. “Monkshood”"
   ]
  },
  {
   "cell_type": "markdown",
   "id": "5c11cf8f-bb2c-4310-a4ff-5fe49505cabd",
   "metadata": {},
   "source": [
    "### Adding items"
   ]
  },
  {
   "cell_type": "code",
   "execution_count": 9,
   "id": "65df13cf-12d4-42f1-bc82-54515bbd9a9c",
   "metadata": {},
   "outputs": [
    {
     "name": "stdout",
     "output_type": "stream",
     "text": [
      "['pink primrose', 'hard-leaved pocket orchid', 'canterbury bells', 'sweet pea', 'english marigold', 'tiger lily', 'moon orchid', 'bird of paradise', 'monkshood', 'snapdragon']\n"
     ]
    }
   ],
   "source": [
    "flowers_list.append(\"snapdragon\")\n",
    "print(flowers_list)"
   ]
  },
  {
   "cell_type": "markdown",
   "id": "c40a09bc-5e62-4556-b42a-c8f907e1d571",
   "metadata": {},
   "source": [
    "Daftar bunga telah diperbarui. “Snapdragon” telah ditambahkan ke dalam daftar. Berikut adalah daftar bunga yang diperbarui:\n",
    "1. “Pink Primrose”\n",
    "2. “Hard-Leaved Pocket Orchid”\n",
    "3. “Canterbury Bells”\n",
    "4. “Sweet Pea”\n",
    "5. “English Marigold”\n",
    "6. “Tiger Lily”\n",
    "7. “Moon Orchid”\n",
    "8. “Bird of Paradise”\n",
    "9. “Monkshood”\n",
    "10. “Snapdragon”"
   ]
  },
  {
   "cell_type": "markdown",
   "id": "33d07c8b-c02f-40ca-8f52-e8e3a59162a2",
   "metadata": {},
   "source": [
    "### Lists are not just for strings"
   ]
  },
  {
   "cell_type": "code",
   "execution_count": 10,
   "id": "a29ba131-01b1-4487-90a1-d80698e99af4",
   "metadata": {},
   "outputs": [],
   "source": [
    "hardcover_sales = [139, 128, 172, 139, 191, 168, 170]"
   ]
  },
  {
   "cell_type": "markdown",
   "id": "b1480932-d8cb-4654-a73e-514c6b30bed8",
   "metadata": {},
   "source": [
    "Diberikan suatu data penjualan sampul buku pada minggu pertama Bulan April, 2000 dari sebuah toko retail."
   ]
  },
  {
   "cell_type": "code",
   "execution_count": 11,
   "id": "8c3ed7d7-dd98-4d15-8ad4-403182c34b1d",
   "metadata": {},
   "outputs": [
    {
     "name": "stdout",
     "output_type": "stream",
     "text": [
      "Length of the list: 7\n",
      "Entry at index 2: 172\n"
     ]
    }
   ],
   "source": [
    "print(\"Length of the list:\", len(hardcover_sales))\n",
    "print(\"Entry at index 2:\", hardcover_sales[2])"
   ]
  },
  {
   "cell_type": "markdown",
   "id": "65171ab2-4b26-443e-8d29-3c7e845e6d6e",
   "metadata": {},
   "source": [
    "Panjang dari daftar ini adalah 7. Buku yang terjual pada indeks ke-2 sebanyak 172 eksemplar."
   ]
  },
  {
   "cell_type": "code",
   "execution_count": 12,
   "id": "0c534a49-4dc0-4499-b8c6-e6ce404c652a",
   "metadata": {},
   "outputs": [
    {
     "name": "stdout",
     "output_type": "stream",
     "text": [
      "Minimum: 128\n",
      "Maximum: 191\n"
     ]
    }
   ],
   "source": [
    "print(\"Minimum:\", min(hardcover_sales))\n",
    "print(\"Maximum:\", max(hardcover_sales))"
   ]
  },
  {
   "cell_type": "markdown",
   "id": "664e93cb-a7ee-4658-813a-d345ed8f9d21",
   "metadata": {},
   "source": [
    "Minimum: 128 eksemplar. Maximum: 191 eksemplar."
   ]
  },
  {
   "cell_type": "code",
   "execution_count": 13,
   "id": "5fb61bab-132f-4612-bf67-5f0bd5f33959",
   "metadata": {},
   "outputs": [
    {
     "name": "stdout",
     "output_type": "stream",
     "text": [
      "Total books sold in one week: 1107\n"
     ]
    }
   ],
   "source": [
    "print(\"Total books sold in one week:\", sum(hardcover_sales))"
   ]
  },
  {
   "cell_type": "markdown",
   "id": "8d3df76d-02b8-4008-bfa5-d6290ccd5019",
   "metadata": {},
   "source": [
    "Total buku yang terjual dalam satu minggu adalah 1,147 eksemplar."
   ]
  },
  {
   "cell_type": "code",
   "execution_count": 14,
   "id": "7e10c18f-b9e1-4ffa-9aa7-5da300918752",
   "metadata": {},
   "outputs": [
    {
     "name": "stdout",
     "output_type": "stream",
     "text": [
      "Average books sold in first five days: 153.8\n"
     ]
    }
   ],
   "source": [
    "print(\"Average books sold in first five days:\", sum(hardcover_sales[:5])/5)"
   ]
  },
  {
   "cell_type": "code",
   "execution_count": null,
   "id": "247c0474-3065-46af-bed1-b9f2622c16d5",
   "metadata": {},
   "outputs": [],
   "source": []
  }
 ],
 "metadata": {
  "kernelspec": {
   "display_name": "Python 3 (ipykernel)",
   "language": "python",
   "name": "python3"
  },
  "language_info": {
   "codemirror_mode": {
    "name": "ipython",
    "version": 3
   },
   "file_extension": ".py",
   "mimetype": "text/x-python",
   "name": "python",
   "nbconvert_exporter": "python",
   "pygments_lexer": "ipython3",
   "version": "3.9.12"
  }
 },
 "nbformat": 4,
 "nbformat_minor": 5
}
